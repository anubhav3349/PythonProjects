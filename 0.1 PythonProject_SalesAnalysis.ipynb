{
 "cells": [
  {
   "cell_type": "code",
   "execution_count": null,
   "id": "8338f6a7-c0c6-4e0e-b9fd-b6cf02ba77c5",
   "metadata": {},
   "outputs": [],
   "source": [
    "import pandas as pd\n",
    "import os\n",
    "import matplotlib.pyplot as plt"
   ]
  },
  {
   "cell_type": "markdown",
   "id": "445a1a58-cd11-4f80-9c4a-93400e206e31",
   "metadata": {},
   "source": [
    "### Task#1: Merging 12 months data ino a single file"
   ]
  },
  {
   "cell_type": "code",
   "execution_count": null,
   "id": "38a7a759-d32a-4def-9b48-57cb7be896cf",
   "metadata": {},
   "outputs": [],
   "source": [
    "#to store all the files in a list format\n",
    "files = [file for file in os.listdir('F:/....../Sales_Data')]\n",
    "\n",
    "#create a blank dataframe\n",
    "all_months_data = pd.DataFrame()\n",
    "\n",
    "#accessing each file one by one from the 'files' list and concatinating it to the blank dataframe created above\n",
    "for file in files:\n",
    "    df=pd.read_csv(\"F:/....../Sales_Data/\"+file)\n",
    "    all_months_data = pd.concat([all_months_data,df])\n",
    "\n",
    "#exporting the concatenated data to a csv file\n",
    "#all_months_data.to_csv('F:/....../Sales_Data/All_months_data.csv',index=False)m"
   ]
  },
  {
   "cell_type": "markdown",
   "id": "2243a212-83c4-4201-bb60-b94d8593153c",
   "metadata": {},
   "source": [
    "#### reading the updated dataframe"
   ]
  },
  {
   "cell_type": "code",
   "execution_count": null,
   "id": "b11a85a2-ec4c-48c5-8aff-bad41f682515",
   "metadata": {},
   "outputs": [],
   "source": [
    "all_data = pd.read_csv('F:/....../Sales_Data/All_months_data.csv')\n",
    "all_data.head()"
   ]
  },
  {
   "cell_type": "markdown",
   "id": "a71aa97b-5ead-4c16-ab11-7582add4b980",
   "metadata": {},
   "source": [
    "### *Question1: Best month for sales? How much was earned that month?*"
   ]
  },
  {
   "cell_type": "markdown",
   "id": "6f482505-788d-4043-a506-22ea8e94d61b",
   "metadata": {},
   "source": [
    "#### for this task, we need to augment data with addtional columns, such as a 'month' column"
   ]
  },
  {
   "cell_type": "markdown",
   "id": "5d7ead7b-4ecf-4cdb-8c54-fb39c3c2e868",
   "metadata": {},
   "source": [
    "### Task#2: Adding 'month' column"
   ]
  },
  {
   "cell_type": "markdown",
   "id": "c1b8fd3d-686d-4e0f-b717-eb6a04afb75b",
   "metadata": {},
   "source": [
    "#### logic: taking first two characters from the 'order date' column"
   ]
  },
  {
   "cell_type": "code",
   "execution_count": null,
   "id": "16db586a-55fe-4a90-9820-364e75d71a02",
   "metadata": {},
   "outputs": [],
   "source": [
    "all_data['Month'] = all_data['Order Date'].str[0:2]\n",
    "all_data.head()"
   ]
  },
  {
   "cell_type": "markdown",
   "id": "6fc11134-5908-450c-a9d1-620b1eec3603",
   "metadata": {},
   "source": [
    "#### now, we need to convert this 'Month' column from 'str' to 'int' type"
   ]
  },
  {
   "cell_type": "code",
   "execution_count": null,
   "id": "1a9e53ca-9008-43ce-99ae-325418afb436",
   "metadata": {},
   "outputs": [],
   "source": [
    "all_data['Month']=all_data['Month'].astype('int')"
   ]
  },
  {
   "cell_type": "markdown",
   "id": "64f24a8a-3e1f-4d08-a9a6-c2cc843a35d9",
   "metadata": {},
   "source": [
    "#### but, here comes a problem---there are some NaN values in 'Month' column. We need to first address those"
   ]
  },
  {
   "cell_type": "markdown",
   "id": "93cf2982-1043-4ad4-873f-af9739bbec78",
   "metadata": {},
   "source": [
    "### Task#3: Clean up the data"
   ]
  },
  {
   "cell_type": "markdown",
   "id": "4c795942-b97a-4aa4-bbdf-e7afa1aba0ed",
   "metadata": {},
   "source": [
    "#### drop NaN rows"
   ]
  },
  {
   "cell_type": "code",
   "execution_count": null,
   "id": "3c843b98-710e-45e0-a4ae-47c57bfa1e40",
   "metadata": {},
   "outputs": [],
   "source": [
    "#pulling all NaN rows\n",
    "nan_df = all_data[all_data.isna().any(axis=1)]\n",
    "nan_df.head()"
   ]
  },
  {
   "cell_type": "code",
   "execution_count": null,
   "id": "18ab896f-4529-4aaa-98d2-de8a234dba0f",
   "metadata": {},
   "outputs": [],
   "source": [
    "all_data = all_data.dropna(how='all')"
   ]
  },
  {
   "cell_type": "markdown",
   "id": "c8233341-e588-428f-96fd-f33082584cbe",
   "metadata": {},
   "source": [
    "#### now, we should be able to convert 'Month' column to int"
   ]
  },
  {
   "cell_type": "code",
   "execution_count": null,
   "id": "9dd5081b-d387-4d50-b184-2a810e804d00",
   "metadata": {},
   "outputs": [],
   "source": [
    "#still gives error\n",
    "all_data['Month']=all_data['Month'].astype('int')"
   ]
  },
  {
   "cell_type": "markdown",
   "id": "c8b991a5-55b2-44e8-857e-e1fc3defe01a",
   "metadata": {},
   "source": [
    "#### still, we have some issue with the data---there is some 'or' character in the 'Month' column. This could be because this was present it 'Order Date' column's first two characters"
   ]
  },
  {
   "cell_type": "code",
   "execution_count": null,
   "id": "d12de582-5bd6-4594-bd2c-cb102c51d377",
   "metadata": {},
   "outputs": [],
   "source": [
    "#finding out where such occurences are coming\n",
    "temp_df = all_data[all_data['Order Date'].str[0:2]=='Or']\n",
    "temp_df.head()"
   ]
  },
  {
   "cell_type": "markdown",
   "id": "fec32aa4-8c46-40a9-9662-b564e4a4d7ac",
   "metadata": {},
   "source": [
    "#### so, we see that column names are getting duplicated across the dataframe"
   ]
  },
  {
   "cell_type": "code",
   "execution_count": null,
   "id": "19536c4f-86a4-40d5-b832-05989bca92ef",
   "metadata": {},
   "outputs": [],
   "source": [
    "#selecting all the records without those rows\n",
    "all_data = all_data[all_data['Order Date'].str[0:2]!='Or']"
   ]
  },
  {
   "cell_type": "markdown",
   "id": "63f32c7a-5c5b-4078-932f-9dd5a558a788",
   "metadata": {},
   "source": [
    "#### now, we should be able to convert 'Month' column to int¶"
   ]
  },
  {
   "cell_type": "code",
   "execution_count": null,
   "id": "1dee920a-995f-4c3d-99d8-cd21067fe900",
   "metadata": {},
   "outputs": [],
   "source": [
    "#it will succeed now\n",
    "all_data['Month']=all_data['Month'].astype('int')"
   ]
  },
  {
   "cell_type": "markdown",
   "id": "9ebcaa72-1da4-4b12-a981-798ff9e4e356",
   "metadata": {},
   "source": [
    "#### now, continuing with the question at hand- Question1"
   ]
  },
  {
   "cell_type": "markdown",
   "id": "62d7596b-ce17-441f-967c-36b1a414593a",
   "metadata": {},
   "source": [
    "#### for this, we need to create a new column- sales per order by multiplying quantity and price"
   ]
  },
  {
   "cell_type": "markdown",
   "id": "d447b80b-29b7-4302-bcd3-5de0bdfbe014",
   "metadata": {},
   "source": [
    "### Task#4: Adding a 'sales' column"
   ]
  },
  {
   "cell_type": "code",
   "execution_count": null,
   "id": "eb0146a7-0e79-4662-b5fc-6425f2e00769",
   "metadata": {},
   "outputs": [],
   "source": [
    "all_data.dtypes\n",
    "\n",
    "#converting the columns to required datatype\n",
    "#pd.to_numeric is another way of converting to numeric data\n",
    "all_data['Quantity Ordered'] = pd.to_numeric(all_data['Quantity Ordered'])\n",
    "all_data['Price Each'] = pd.to_numeric(all_data['Price Each'])"
   ]
  },
  {
   "cell_type": "code",
   "execution_count": null,
   "id": "f8e8a1e0-0f99-4368-a382-0c3ebfaaf1e0",
   "metadata": {},
   "outputs": [],
   "source": [
    "#creating the sales column\n",
    "all_data['Sales'] = all_data['Quantity Ordered'] * all_data['Price Each']\n",
    "all_data.head()"
   ]
  },
  {
   "cell_type": "markdown",
   "id": "ec3e2c9f-a256-4fc7-aa7b-e5b34416ab2c",
   "metadata": {},
   "source": [
    "#### now ,returning back to our question- we will be using 'group by' for the same"
   ]
  },
  {
   "cell_type": "code",
   "execution_count": null,
   "id": "eec77d45-0fe8-44e2-bbc4-8ac532d2e275",
   "metadata": {},
   "outputs": [],
   "source": [
    "#creating a subset of dataframe with the required columns\n",
    "df_sales = all_data[['Month','Quantity Ordered','Price Each','Sales']]\n",
    "\n",
    "#applying group by the subset\n",
    "df_grp=df_sales.groupby('Month').sum()\n",
    "df_grp"
   ]
  },
  {
   "cell_type": "code",
   "execution_count": null,
   "id": "75476d4e-b239-4c3d-9517-c7c4915faab8",
   "metadata": {},
   "outputs": [],
   "source": [
    "#alternate solution\n",
    "months= range(1,13)\n",
    "plt.bar(months,df_grp['Sales'])\n",
    "plt.xticks(months)\n",
    "plt.xlabel('Month no.')\n",
    "plt.ylabel('Sales in USD (Mn$)')\n",
    "plt.show()"
   ]
  },
  {
   "cell_type": "markdown",
   "id": "db1f1a6c-83af-40fe-9f1b-33eddd2d60b9",
   "metadata": {},
   "source": [
    "### *Answer1: December shows the best sales month*"
   ]
  },
  {
   "cell_type": "markdown",
   "id": "969b54f1-82a9-4e18-9053-cf10c5ed3dcd",
   "metadata": {},
   "source": [
    "### *Question2: Which city had the highest sales?*"
   ]
  },
  {
   "cell_type": "code",
   "execution_count": null,
   "id": "34b9d418-2173-41cd-ad80-e4fde2edf2dd",
   "metadata": {},
   "outputs": [],
   "source": [
    "all_data.head()"
   ]
  },
  {
   "cell_type": "markdown",
   "id": "2d64d7a3-9983-42d3-ab42-d38ed54104de",
   "metadata": {},
   "source": [
    "#### Task#5: Creating a column-city"
   ]
  },
  {
   "cell_type": "code",
   "execution_count": null,
   "id": "df609d07-ff0a-4ebe-b1c0-0f8acb90d2a8",
   "metadata": {},
   "outputs": [],
   "source": [
    "#method1\n",
    "all_data[['HouseNo_Strt','City1','Country_Pin']] = all_data['Purchase Address'].str.split(\",\",expand=True)\n",
    "all_data.head()"
   ]
  },
  {
   "cell_type": "code",
   "execution_count": null,
   "id": "25fd8046-5794-4363-bb30-966b678ab463",
   "metadata": {},
   "outputs": [],
   "source": [
    "#method2\n",
    "all_data['City2']=all_data['Purchase Address'].apply(lambda x:x.split(',')[1])"
   ]
  },
  {
   "cell_type": "markdown",
   "id": "ae610e4d-ac95-4b32-9d66-f6264cc5abc1",
   "metadata": {},
   "source": [
    "#### we will also need states to uniquely identify cities"
   ]
  },
  {
   "cell_type": "code",
   "execution_count": null,
   "id": "3798bfa3-4b93-4c13-9d73-e237a99614e8",
   "metadata": {},
   "outputs": [],
   "source": [
    "#method3\n",
    "def getcity(address):\n",
    "    return address.split(',')[1] #fetching the 1st index item after splitting based on ,\n",
    "\n",
    "def getstate(address):\n",
    "    return address.split(',')[2].split(' ')[1] #two levels of splitting is involved here\n",
    "    #first, splitting based on , and fetching 2nd index value-state+pin\n",
    "    #second, splitting based on white spaces from the last step data and fetching 1st index because there will be an empty string at th 0th index\n",
    "\n",
    "all_data['City3']=all_data['Purchase Address'].apply(lambda x:getcity(x) + ' (' + getstate(x) + ')')\n",
    "all_data.head(1)\n",
    "    "
   ]
  },
  {
   "cell_type": "markdown",
   "id": "370f3b44-381f-4b84-88bd-b8a994faefc2",
   "metadata": {},
   "source": [
    "#### city-wise sales"
   ]
  },
  {
   "cell_type": "code",
   "execution_count": null,
   "id": "0548f1fd-8e19-449c-a970-3b643ed88a1b",
   "metadata": {},
   "outputs": [],
   "source": [
    "df_city= all_data[['City3','Sales']]\n",
    "df_grp1 = df_city.groupby('City3').sum()\n",
    "df_grp1"
   ]
  },
  {
   "cell_type": "code",
   "execution_count": null,
   "id": "b5117798-2bbf-4597-9585-29084ab3cff8",
   "metadata": {},
   "outputs": [],
   "source": [
    "cities= all_data['City3'].unique()\n",
    "plt.figure(figsize=(6,3))\n",
    "plt.bar(cities,df_grp1['Sales'])\n",
    "plt.xticks(cities,rotation='vertical',size=8)\n",
    "plt.xlabel('Cities')\n",
    "plt.ylabel('Sales in USD (Mn$)')\n",
    "\n",
    "plt.show()"
   ]
  },
  {
   "cell_type": "markdown",
   "id": "41db3f91-6435-446e-b577-5954c4844d59",
   "metadata": {},
   "source": [
    "#### but there is a problem with this plot. \n",
    "#### acc. to this plot, Austin has the largest sales, but in reality San Fransisco has the largest sales\n",
    "#### issue is with the order of the data while using the 'unique()' function\n",
    "#### in y data of plt.bar(cities,df_grp1['Sales']) statement,i.e., df_grp1['Sales'], order matters\n",
    "#### but, cities= all_data['City3'].unique() statement, orders it in a diff way\n",
    "#### so, in our plot, x and y are not in the same order\n",
    "#### below is the correct way"
   ]
  },
  {
   "cell_type": "code",
   "execution_count": null,
   "id": "e99cab1b-fb43-4df8-830a-d4a2c3e47fb2",
   "metadata": {},
   "outputs": [],
   "source": [
    "cities= [city for city, df in all_data.groupby('City3')]\n",
    "plt.figure(figsize=(6,3))\n",
    "plt.bar(cities,df_grp1['Sales'])\n",
    "plt.xticks(cities,rotation='vertical',size=8)\n",
    "plt.xlabel('Cities')\n",
    "plt.ylabel('Sales in USD (Mn$)')\n",
    "\n",
    "plt.show()"
   ]
  },
  {
   "cell_type": "markdown",
   "id": "d1060415-cc4a-49c2-9076-44b1950e9dff",
   "metadata": {},
   "source": [
    "### *Answer2: San Fransisco the best sales*"
   ]
  },
  {
   "cell_type": "markdown",
   "id": "160ba557-b4cb-4701-896e-856d8e37c095",
   "metadata": {},
   "source": [
    "### *Question3: What time should we display ads to maximise likelihood of customer's buying product?* "
   ]
  },
  {
   "cell_type": "code",
   "execution_count": null,
   "id": "f513a593-cf0a-4b44-909c-e00fc272ef73",
   "metadata": {},
   "outputs": [],
   "source": [
    "#converting order date to datetime\n",
    "all_data['Order Date'] = pd.to_datetime(all_data['Order Date'])"
   ]
  },
  {
   "cell_type": "code",
   "execution_count": null,
   "id": "cd070c3e-6277-4b40-9eb6-0222e4f4794e",
   "metadata": {},
   "outputs": [],
   "source": [
    "#fetching hour and minute from the 'Order Date' column\n",
    "all_data['Hour'] = all_data['Order Date'].dt.hour\n",
    "all_data['Minute'] = all_data['Order Date'].dt.minute"
   ]
  },
  {
   "cell_type": "code",
   "execution_count": null,
   "id": "427f4c2b-3ac1-469c-9ad0-6cb52527b2c5",
   "metadata": {},
   "outputs": [],
   "source": [
    "all_data.head(2)"
   ]
  },
  {
   "cell_type": "code",
   "execution_count": null,
   "id": "19f1a8f4-7e62-4959-b301-6e79991d1df3",
   "metadata": {},
   "outputs": [],
   "source": [
    "hours = [hour for hour,df in all_data.groupby('Hour')]\n",
    "plt.figure(figsize=(6,2))\n",
    "plt.plot(hours,all_data.groupby(['Hour']).count())\n",
    "plt.xticks(hours)\n",
    "plt.grid()\n",
    "plt.show()\n",
    "#all_data.groupby(['Hour']).count()--- this line will give the count of records grouped by hour\n",
    "#all_data.groupby(['Hour']).count()"
   ]
  },
  {
   "cell_type": "markdown",
   "id": "460adf19-146c-4ff6-ae0f-e833f8e72d0c",
   "metadata": {},
   "source": [
    "### *Answer3: 11AM and 7PM*"
   ]
  },
  {
   "cell_type": "markdown",
   "id": "201f553d-ddc4-42cf-9a7a-dfd5a464e3fe",
   "metadata": {},
   "source": [
    "### *Question4: What products are most often sold together?* "
   ]
  },
  {
   "cell_type": "code",
   "execution_count": null,
   "id": "4e3de77d-e461-45b9-a976-0ec24ec3c3f6",
   "metadata": {},
   "outputs": [],
   "source": [
    "#creating a subset dataframes with only duplicate records\n",
    "duplicate_df = all_data[all_data['Order ID'].duplicated(keep=False)]\n",
    "duplicate_df.head(5)"
   ]
  },
  {
   "cell_type": "code",
   "execution_count": null,
   "id": "292d048b-facd-41ed-a5b7-3c25c2dfdd67",
   "metadata": {},
   "outputs": [],
   "source": [
    "#creating a single row for each duplciate order id by combining the products together\n",
    "duplicate_df['Grouped'] = duplicate_df.groupby('Order ID')['Product'].transform(lambda x: \",\".join(x))\n",
    "duplicate_df.head(2)"
   ]
  },
  {
   "cell_type": "markdown",
   "id": "15cff49e-23a5-4209-a76f-1e97be1e51b5",
   "metadata": {},
   "source": [
    "#### but the above dataframe will still have duplicate rows. we need to drop those duplicate rows"
   ]
  },
  {
   "cell_type": "code",
   "execution_count": null,
   "id": "dc7ecf71-f339-4c99-a1f9-022eda55c2db",
   "metadata": {},
   "outputs": [],
   "source": [
    "duplicate_df = duplicate_df[['Order ID','Grouped']].drop_duplicates()\n",
    "duplicate_df.head(10)"
   ]
  },
  {
   "cell_type": "code",
   "execution_count": null,
   "id": "551fd465-2098-4782-b56c-2ccc5f229387",
   "metadata": {},
   "outputs": [],
   "source": [
    "from itertools import combinations\n",
    "from collections import Counter"
   ]
  },
  {
   "cell_type": "code",
   "execution_count": null,
   "id": "2d670d01-96e6-49a9-a454-ec3c4ea822d1",
   "metadata": {},
   "outputs": [],
   "source": [
    "count = Counter()\n",
    "for row in duplicate_df['Grouped']:\n",
    "    row_list= row.split(',')\n",
    "    count.update(Counter(combinations(row_list,3)))\n",
    "    \n",
    "#count variable will have the desired result    \n",
    "\n",
    "#selecting top 10\n",
    "for key,value in count.most_common(10):\n",
    "    print(key,value)\n",
    "\n",
    "\n",
    "\"\"\"\n",
    "for row in duplicate_df['Grouped']:\n",
    "    row_list= row.split(',')\n",
    "    count.update(Counter(combinations(row_list,2)))\n",
    "    \n",
    "#count variable will have the desired result    \n",
    "\n",
    "#selecting top 10\n",
    "for key,value in count.most_common(10):\n",
    "    print(key,value)\"\"\""
   ]
  },
  {
   "cell_type": "markdown",
   "id": "908d8b04-4341-451e-8f21-408bcd35ed2e",
   "metadata": {},
   "source": [
    "### *Answer4: for a group of two items: ('iPhone', 'Lightning Charging Cable') 1005 and for a group of three items: ('Google Phone', 'USB-C Charging Cable', 'Wired Headphones') 87*"
   ]
  },
  {
   "cell_type": "markdown",
   "id": "fd2cb987-2348-414a-995e-f484d300c470",
   "metadata": {},
   "source": [
    "### *Question5: What product sold the most and why?* "
   ]
  },
  {
   "cell_type": "code",
   "execution_count": null,
   "id": "7e7fc2e1-b1ee-4d44-bcc4-531672d53ba9",
   "metadata": {},
   "outputs": [],
   "source": [
    "product_group = all_data.groupby('Product')\n",
    "#print(product_group)\n",
    "qty_ordered = product_group['Quantity Ordered'].sum()\n",
    "qty_ordered"
   ]
  },
  {
   "cell_type": "code",
   "execution_count": null,
   "id": "51cf92dc-0eb2-4d79-a1c1-044001aff45d",
   "metadata": {},
   "outputs": [],
   "source": [
    "products = [product for product,df in product_group]\n",
    "#print(products)\n",
    "plt.figure(figsize=(4,2))\n",
    "plt.bar(products,qty_ordered)\n",
    "plt.xticks(products,rotation='vertical',size=8)\n",
    "plt.xlabel('Products')\n",
    "plt.ylabel('Quantity ordered')\n",
    "\n",
    "plt.show()"
   ]
  },
  {
   "cell_type": "markdown",
   "id": "cc131464-d4fa-461b-8fc6-dea56f70b9e8",
   "metadata": {},
   "source": [
    "### *Answer5(a): AAA Batteries*"
   ]
  },
  {
   "cell_type": "markdown",
   "id": "c184d792-9ce7-456c-b4e9-cde0435cac82",
   "metadata": {},
   "source": [
    "#### to know the reason, let's check the correlation of the quantity with price"
   ]
  },
  {
   "cell_type": "code",
   "execution_count": null,
   "id": "b0352e1d-86a9-4380-8c53-98a8c912d8ab",
   "metadata": {},
   "outputs": [],
   "source": [
    "prices = product_group['Price Each'].mean()\n",
    "prices"
   ]
  },
  {
   "cell_type": "markdown",
   "id": "4ac07e0d-dc5e-41f7-a497-d3bf306511e7",
   "metadata": {},
   "source": [
    "#### now, we need to overlay this price data in the bar plot"
   ]
  },
  {
   "cell_type": "code",
   "execution_count": null,
   "id": "ed06bdab-188d-42fe-ac56-e84814fdbc89",
   "metadata": {},
   "outputs": [],
   "source": [
    "fig,ax1 = plt.subplots()\n",
    "\n",
    "\n",
    "ax2 = ax1. twinx()\n",
    "ax1.bar(products,qty_ordered,color='g')\n",
    "ax2.plot(products,prices,color='r')\n",
    "\n",
    "ax1.set_xticklabels(products,rotation='vertical',size=8)\n",
    "ax1.set_xlabel('Products')\n",
    "ax1.set_ylabel('Quantity ordered',color='g')\n",
    "ax2.set_ylabel('Price',color='r')\n",
    "plt.grid()\n",
    "\n",
    "plt.show()\n"
   ]
  },
  {
   "cell_type": "markdown",
   "id": "79cf4537-93c2-46f4-921c-96ad1fd459cf",
   "metadata": {},
   "source": [
    "### *Answer5(b): whichever product is selling high quantities, have very less price*"
   ]
  },
  {
   "cell_type": "code",
   "execution_count": null,
   "id": "da958b3e-4cd9-47f6-af3a-b6dcb7a2b9d8",
   "metadata": {},
   "outputs": [],
   "source": []
  }
 ],
 "metadata": {
  "kernelspec": {
   "display_name": "Python 3 (ipykernel)",
   "language": "python",
   "name": "python3"
  },
  "language_info": {
   "codemirror_mode": {
    "name": "ipython",
    "version": 3
   },
   "file_extension": ".py",
   "mimetype": "text/x-python",
   "name": "python",
   "nbconvert_exporter": "python",
   "pygments_lexer": "ipython3",
   "version": "3.11.4"
  }
 },
 "nbformat": 4,
 "nbformat_minor": 5
}
